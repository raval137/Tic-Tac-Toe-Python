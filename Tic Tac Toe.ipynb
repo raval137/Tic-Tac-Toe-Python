{
 "cells": [
  {
   "cell_type": "code",
   "execution_count": 12,
   "metadata": {},
   "outputs": [],
   "source": [
    "from IPython.display import clear_output\n",
    "def diagram(num):\n",
    "    clear_output()\n",
    "    k = num\n",
    "    \n",
    "    print('        |        |      ')\n",
    "    print('  1:{}   |   2:{}  |   3:{}  '.format(k['k1'],k['k2'],k['k3']))\n",
    "    print('        |        |      ')\n",
    "    print('---------------------')\n",
    "    print('        |        |      ')\n",
    "    print('  4:{}   |   5:{}  |   6:{}  '.format(k['k4'],k['k5'],k['k6']))\n",
    "    print('        |        |      ')\n",
    "    print('---------------------')\n",
    "    print('        |        |      ')\n",
    "    print('  7:{}   |   8:{}  |   9:{}  '.format(k['k7'],k['k8'],k['k9']))\n",
    "    print('        |        |      ')"
   ]
  },
  {
   "cell_type": "code",
   "execution_count": 13,
   "metadata": {},
   "outputs": [],
   "source": [
    "def takein():\n",
    "    i = 0\n",
    "    k1 = {'k1':' ','k2':' ','k3':' ','k4':' ','k5':' ','k6':' ','k7':' ','k8':' ','k9':' '}\n",
    "    symbol = ['X','O','X','O','X','O','X','O','X']\n",
    "    available = ['1','2','3','4','5','6','7','8','9']\n",
    "    diagram(k1)\n",
    "    while (i<9):\n",
    "        print(\"{}'s Turn\".format(symbol[i]))\n",
    "        p1 = str(input('Player enter the number: '))\n",
    "        if p1 in available:\n",
    "            available.remove(p1)\n",
    "            k1['k'+p1] = symbol[i]\n",
    "            diagram(k1)\n",
    "            i += 1\n",
    "        else:\n",
    "            print('{} Already Taken'.format(p1))\n",
    "            continue\n",
    "        if (k1['k1'] == k1['k2'] == k1['k3'] in ['X','O'] \n",
    "        or k1['k4'] == k1['k5'] == k1['k6'] in ['X','O'] \n",
    "        or k1['k7'] == k1['k8'] == k1['k9'] in ['X','O'] \n",
    "        or k1['k1'] == k1['k4'] == k1['k7'] in ['X','O'] \n",
    "        or k1['k2'] == k1['k5'] == k1['k8'] in ['X','O'] \n",
    "        or k1['k3'] == k1['k6'] == k1['k9'] in ['X','O'] \n",
    "        or k1['k1'] == k1['k5'] == k1['k9'] in ['X','O'] \n",
    "        or k1['k3'] == k1['k5'] == k1['k7'] in ['X','O']):\n",
    "                print('{} has WON!!!'.format(symbol[i-1]))\n",
    "                break\n",
    "    if(i==9):\n",
    "        print('Game Over')"
   ]
  },
  {
   "cell_type": "code",
   "execution_count": 14,
   "metadata": {},
   "outputs": [
    {
     "name": "stdout",
     "output_type": "stream",
     "text": [
      "        |        |      \n",
      "  1:X   |   2:X  |   3:O  \n",
      "        |        |      \n",
      "---------------------\n",
      "        |        |      \n",
      "  4:X   |   5:O  |   6:O  \n",
      "        |        |      \n",
      "---------------------\n",
      "        |        |      \n",
      "  7:X   |   8:   |   9:   \n",
      "        |        |      \n",
      "X has WON!!!\n"
     ]
    }
   ],
   "source": [
    "takein()"
   ]
  },
  {
   "cell_type": "markdown",
   "metadata": {},
   "source": [
    " "
   ]
  },
  {
   "cell_type": "code",
   "execution_count": null,
   "metadata": {},
   "outputs": [],
   "source": []
  },
  {
   "cell_type": "code",
   "execution_count": null,
   "metadata": {},
   "outputs": [],
   "source": []
  },
  {
   "cell_type": "code",
   "execution_count": null,
   "metadata": {},
   "outputs": [],
   "source": []
  },
  {
   "cell_type": "code",
   "execution_count": null,
   "metadata": {},
   "outputs": [],
   "source": []
  }
 ],
 "metadata": {
  "kernelspec": {
   "display_name": "Python 3",
   "language": "python",
   "name": "python3"
  },
  "language_info": {
   "codemirror_mode": {
    "name": "ipython",
    "version": 3
   },
   "file_extension": ".py",
   "mimetype": "text/x-python",
   "name": "python",
   "nbconvert_exporter": "python",
   "pygments_lexer": "ipython3",
   "version": "3.7.0"
  }
 },
 "nbformat": 4,
 "nbformat_minor": 2
}
